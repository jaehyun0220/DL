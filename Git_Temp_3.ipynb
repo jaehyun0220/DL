{
  "nbformat": 4,
  "nbformat_minor": 0,
  "metadata": {
    "colab": {
      "name": "Git_Temp_3.ipynb",
      "provenance": [],
      "authorship_tag": "ABX9TyMWi0D1MPITrHs3yeXKW0Fe",
      "include_colab_link": true
    },
    "kernelspec": {
      "name": "python3",
      "display_name": "Python 3"
    },
    "language_info": {
      "name": "python"
    }
  },
  "cells": [
    {
      "cell_type": "markdown",
      "metadata": {
        "id": "view-in-github",
        "colab_type": "text"
      },
      "source": [
        "<a href=\"https://colab.research.google.com/github/jaehyun0220/DL/blob/master/Git_Temp_3.ipynb\" target=\"_parent\"><img src=\"https://colab.research.google.com/assets/colab-badge.svg\" alt=\"Open In Colab\"/></a>"
      ]
    },
    {
      "cell_type": "code",
      "metadata": {
        "id": "hVUTvOjRh0Rq"
      },
      "source": [
        "# 데이터 활용에 필요한 기본 패키지 로딩\n",
        "import sys #access to system parameters \n",
        "print(\"Python version: {}\". format(sys.version))\n",
        "\n",
        "import pandas as pd\n",
        "print(\"pandas version: {}\". format(pd.__version__))\n",
        "\n",
        "import sklearn #collection of machine learning algorithms\n",
        "print(\"scikit-learn version: {}\". format(sklearn.__version__))\n",
        "\n",
        "import numpy as np #foundational package for scientific computing\n",
        "print(\"NumPy version: {}\". format(np.__version__))\n",
        "\n",
        "import tensorflow as tf\n",
        "print(\"tensorflow version: {}\".format(tf.__version__))\n",
        "\n",
        "import os"
      ],
      "execution_count": null,
      "outputs": []
    },
    {
      "cell_type": "code",
      "metadata": {
        "id": "g9lgkeSLl12f"
      },
      "source": [
        "import matplotlib.pyplot as plt\n",
        "import numpy as np\n",
        "from sklearn import datasets, linear_model\n",
        "from sklearn.metrics import mean_squared_error, mean_squared_log_error, mean_absolute_percentage_error, r2_score\n",
        "from sklearn import model_selection\n",
        "\n",
        "height = [170, 168, 177, 181 ,172, 171, 169, 175, 174, 178, 170, 167, 177, 182 ,173, 171, 170, 179, 175, 177, 186, 166, 183, 168]\n",
        "weight = [70, 66, 73, 77, 74, 73, 69, 79, 77, 80, 74, 68, 71, 76, 78, 72, 68, 79, 77, 81, 84, 73, 78, 69]\n",
        "\n",
        "# DataFrame 만들기\n",
        "\n",
        "body = pd.DataFrame(\n",
        "    {'height': height, 'weight': weight}\n",
        ")"
      ],
      "execution_count": null,
      "outputs": []
    },
    {
      "cell_type": "code",
      "metadata": {
        "id": "PhmOQkMZl14S"
      },
      "source": [
        "body.info"
      ],
      "execution_count": null,
      "outputs": []
    },
    {
      "cell_type": "code",
      "metadata": {
        "id": "GvsID2bOl162"
      },
      "source": [
        "# 산점도(scatter) 그리기\n",
        "\n",
        "import matplotlib.pylab as plt\n",
        "\n",
        "plt.scatter( body['weight'], body['height'], label = \"data\")\n",
        "\n",
        "plt.legend(loc = \"best\")\n",
        "plt.xlabel('weight')\n",
        "plt.ylabel('height')\n",
        "plt.show()"
      ],
      "execution_count": null,
      "outputs": []
    },
    {
      "cell_type": "code",
      "metadata": {
        "id": "RkHtwapWl19X"
      },
      "source": [
        "# Train & Test set 분리\n",
        "train_x = body['height'][:-16]\n",
        "test_x = body['height'][-16:]\n",
        "train_y = body['weight'][:-16]\n",
        "test_y = body['weight'][-16:]\n",
        "\n",
        "train_x = train_x.values.reshape(-1,1)\n",
        "test_x = test_x.values.reshape(-1,1)\n",
        "\n",
        "\n",
        "# Create linear regression object\n",
        "regr = linear_model.LinearRegression()\n",
        "\n",
        "# Train the model using the training sets\n",
        "regr.fit(train_x, train_y)\n",
        "\n",
        "# Make predictions using the testing set\n",
        "pred_y = regr.predict(test_x)\n",
        "\n",
        "# The coefficientsbb\n",
        "print('Coefficients: \\n', regr.coef_, \"Intercept: \", regr.intercept_)\n",
        "# The mean squared error\n",
        "print('Mean Squared Log Error: %.2f'% mean_squared_log_error(test_y, pred_y))\n",
        "print('Mean Absolute Percentage Error: %.2f'% mean_absolute_percentage_error(test_y, pred_y))\n",
        "# The coefficient of determination: 1 is perfect prediction\n",
        "print('Coefficient of determination: %.2f'% r2_score(test_y, pred_y))\n",
        "\n",
        "# Plot outputs\n",
        "plt.scatter(test_x, test_y,  color='black')\n",
        "plt.plot(test_x, pred_y, color='blue', linewidth=3)\n",
        "\n",
        "plt.xticks(())\n",
        "plt.yticks(())\n",
        "\n",
        "plt.show()"
      ],
      "execution_count": null,
      "outputs": []
    },
    {
      "cell_type": "code",
      "metadata": {
        "id": "oisGTv-5l1_p"
      },
      "source": [
        "# body dataset을 scaling\n",
        "from sklearn.preprocessing import StandardScaler\n",
        "standardScaler = StandardScaler()\n",
        "standardScaler.fit(body)\n",
        "body_standardScaled = standardScaler.transform(body)\n",
        "body_standardScaled"
      ],
      "execution_count": null,
      "outputs": []
    },
    {
      "cell_type": "code",
      "metadata": {
        "id": "hG3ZVnVOl2CY"
      },
      "source": [
        "print(np.mean(body_standardScaled, axis=0))"
      ],
      "execution_count": null,
      "outputs": []
    },
    {
      "cell_type": "code",
      "metadata": {
        "id": "m02Bvnb0l2E3"
      },
      "source": [
        "body_standardScaled[:,0][-16:]"
      ],
      "execution_count": null,
      "outputs": []
    },
    {
      "cell_type": "code",
      "metadata": {
        "id": "CdpI6lLxl2HZ"
      },
      "source": [
        "# Train & Test set 분리\n",
        "train_x = body_standardScaled[:,0][:-16]\n",
        "test_x = body_standardScaled[:,0][-16:]\n",
        "train_y = body_standardScaled[:,1][:-16]\n",
        "test_y = body_standardScaled[:,1][-16:]\n",
        "\n",
        "train_x = train_x.reshape(-1,1)\n",
        "test_x = test_x.reshape(-1,1)\n",
        "\n",
        "\n",
        "# Create linear regression object\n",
        "regr = linear_model.LinearRegression()\n",
        "\n",
        "# Train the model using the training sets\n",
        "regr.fit(train_x, train_y)\n",
        "\n",
        "# Make predictions using the testing set\n",
        "pred_y = regr.predict(test_x)\n",
        "\n",
        "# The coefficients\n",
        "print('Coefficients: \\n', regr.coef_, \"Intercept: \", regr.intercept_)\n",
        "# The mean squared error\n",
        "print('Mean Squared Log Error: %.2f'% mean_squared_log_error(test_y, pred_y))\n",
        "print('Mean Absolute Percentage Error: %.2f'% mean_absolute_percentage_error(test_y, pred_y))\n",
        "# The coefficient of determination: 1 is perfect prediction\n",
        "print('Coefficient of determination: %.2f'% r2_score(test_y, pred_y))\n",
        "\n",
        "# Plot outputs\n",
        "plt.scatter(test_x, test_y,  color='black')\n",
        "plt.plot(test_x, pred_y, color='blue', linewidth=3)\n",
        "\n",
        "plt.xticks(())\n",
        "plt.yticks(())\n",
        "\n",
        "plt.show()"
      ],
      "execution_count": null,
      "outputs": []
    },
    {
      "cell_type": "code",
      "metadata": {
        "id": "gIfTDmcrl2KR"
      },
      "source": [
        ""
      ],
      "execution_count": null,
      "outputs": []
    },
    {
      "cell_type": "code",
      "metadata": {
        "id": "qd7qYrTjl2M2"
      },
      "source": [
        ""
      ],
      "execution_count": null,
      "outputs": []
    }
  ]
}