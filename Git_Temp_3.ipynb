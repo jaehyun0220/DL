{
  "nbformat": 4,
  "nbformat_minor": 0,
  "metadata": {
    "colab": {
      "name": "Git_Temp_3.ipynb",
      "provenance": [],
      "authorship_tag": "ABX9TyMXknB136oa4jyNLboYG8/D",
      "include_colab_link": true
    },
    "kernelspec": {
      "name": "python3",
      "display_name": "Python 3"
    },
    "language_info": {
      "name": "python"
    }
  },
  "cells": [
    {
      "cell_type": "markdown",
      "metadata": {
        "id": "view-in-github",
        "colab_type": "text"
      },
      "source": [
        "<a href=\"https://colab.research.google.com/github/jaehyun0220/DL/blob/master/Git_Temp_3.ipynb\" target=\"_parent\"><img src=\"https://colab.research.google.com/assets/colab-badge.svg\" alt=\"Open In Colab\"/></a>"
      ]
    },
    {
      "cell_type": "code",
      "metadata": {
        "id": "wZtiZlnZJv70",
        "outputId": "e6083ac6-d095-4214-fa00-e011a265f370",
        "colab": {
          "base_uri": "https://localhost:8080/",
          "height": 342
        }
      },
      "source": [
        "# !pip install scikit-learn --upgrade"
      ],
      "execution_count": 4,
      "outputs": [
        {
          "output_type": "stream",
          "text": [
            "Collecting scikit-learn\n",
            "\u001b[?25l  Downloading https://files.pythonhosted.org/packages/a8/eb/a48f25c967526b66d5f1fa7a984594f0bf0a5afafa94a8c4dbc317744620/scikit_learn-0.24.2-cp37-cp37m-manylinux2010_x86_64.whl (22.3MB)\n",
            "\u001b[K     |████████████████████████████████| 22.3MB 1.6MB/s \n",
            "\u001b[?25hRequirement already satisfied, skipping upgrade: numpy>=1.13.3 in /usr/local/lib/python3.7/dist-packages (from scikit-learn) (1.19.5)\n",
            "Requirement already satisfied, skipping upgrade: joblib>=0.11 in /usr/local/lib/python3.7/dist-packages (from scikit-learn) (1.0.1)\n",
            "Collecting threadpoolctl>=2.0.0\n",
            "  Downloading https://files.pythonhosted.org/packages/f7/12/ec3f2e203afa394a149911729357aa48affc59c20e2c1c8297a60f33f133/threadpoolctl-2.1.0-py3-none-any.whl\n",
            "Requirement already satisfied, skipping upgrade: scipy>=0.19.1 in /usr/local/lib/python3.7/dist-packages (from scikit-learn) (1.4.1)\n",
            "Installing collected packages: threadpoolctl, scikit-learn\n",
            "  Found existing installation: scikit-learn 0.22.2.post1\n",
            "    Uninstalling scikit-learn-0.22.2.post1:\n",
            "      Successfully uninstalled scikit-learn-0.22.2.post1\n",
            "Successfully installed scikit-learn-0.24.2 threadpoolctl-2.1.0\n"
          ],
          "name": "stdout"
        },
        {
          "output_type": "display_data",
          "data": {
            "application/vnd.colab-display-data+json": {
              "pip_warning": {
                "packages": [
                  "sklearn"
                ]
              }
            }
          },
          "metadata": {
            "tags": []
          }
        }
      ]
    },
    {
      "cell_type": "code",
      "metadata": {
        "id": "hVUTvOjRh0Rq",
        "outputId": "18f6ca26-2986-4b3c-dab3-eb5046670c2a",
        "colab": {
          "base_uri": "https://localhost:8080/"
        }
      },
      "source": [
        "# 데이터 활용에 필요한 기본 패키지 로딩\n",
        "import sys #access to system parameters \n",
        "print(\"Python version: {}\". format(sys.version))\n",
        "\n",
        "import pandas as pd\n",
        "print(\"pandas version: {}\". format(pd.__version__))\n",
        "\n",
        "import sklearn #collection of machine learning algorithms\n",
        "print(\"scikit-learn version: {}\". format(sklearn.__version__))\n",
        "\n",
        "import numpy as np #foundational package for scientific computing\n",
        "print(\"NumPy version: {}\". format(np.__version__))\n",
        "\n",
        "import tensorflow as tf\n",
        "print(\"tensorflow version: {}\".format(tf.__version__))\n",
        "\n",
        "import os"
      ],
      "execution_count": 1,
      "outputs": [
        {
          "output_type": "stream",
          "text": [
            "Python version: 3.7.10 (default, May  3 2021, 02:48:31) \n",
            "[GCC 7.5.0]\n",
            "pandas version: 1.1.5\n",
            "scikit-learn version: 0.24.2\n",
            "NumPy version: 1.19.5\n",
            "tensorflow version: 2.4.1\n"
          ],
          "name": "stdout"
        }
      ]
    },
    {
      "cell_type": "code",
      "metadata": {
        "id": "g9lgkeSLl12f"
      },
      "source": [
        "import matplotlib.pyplot as plt\n",
        "import numpy as np\n",
        "from sklearn import datasets, linear_model\n",
        "from scipy import stats\n",
        "\n",
        "from sklearn.metrics import mean_squared_error, mean_squared_log_error, mean_absolute_percentage_error, r2_score\n",
        "from sklearn import model_selection\n",
        "\n",
        "# height = [170, 168, 177, 181 ,172, 171, 169, 175, 174, 178, 170, 167, 177, 182 ,173, 171, 170, 179, 175, 177, 186, 166, 183, 168, 198, 170, 170, 198, 170, 165, 193, 142, 137, 155, 165, 147, 170, 140, 165, 132, 137, 165, 165, 180, 168, 142, 193, 165, 142, 165, 137, 165, 160, 160, 165, 165, 165, 163, 170, 165, 155, 165, 165, 160, 163, 135, 165, 142, 193, 171, 162, 198, 190, 163, 150, 168, 168, 193, 170]\n",
        "# weight = [70, 66, 73, 77, 74, 73, 69, 79, 77, 80, 74, 68, 71, 76, 78, 72, 68, 79, 77, 81, 84, 73, 78, 69, 98, 77, 70, 90, 71, 70, 73, 59, 68, 86, 84, 67, 70, 86, 70, 75, 70, 68, 68, 77, 64, 86, 70, 82, 88, 98, 86, 63, 68, 66, 73, 66, 70, 74, 69, 70, 64, 66, 68, 64, 77, 70, 62, 79, 68, 56, 79, 82, 80, 77, 73, 82, 61, 80, 73]\n",
        "\n",
        "height = [170, 168, 177, 181 ,172, 171, 169, 175, 174, 178, 170, 167, 177, 182 ,173, 171, 170, 179, 175, 177, 186, 166, 183, 168]\n",
        "weight = [70, 66, 73, 77, 74, 73, 69, 79, 77, 80, 74, 68, 71, 76, 78, 72, 68, 79, 77, 81, 84, 73, 78, 69]\n",
        "\n",
        "# DataFrame 만들기\n",
        "\n",
        "body = pd.DataFrame(\n",
        "    {'height': height, 'weight': weight}\n",
        ")"
      ],
      "execution_count": 129,
      "outputs": []
    },
    {
      "cell_type": "code",
      "metadata": {
        "id": "PhmOQkMZl14S",
        "outputId": "d4c1872e-9a54-4bf3-92fa-bc078920057d",
        "colab": {
          "base_uri": "https://localhost:8080/"
        }
      },
      "source": [
        "body.info"
      ],
      "execution_count": 99,
      "outputs": [
        {
          "output_type": "execute_result",
          "data": {
            "text/plain": [
              "<bound method DataFrame.info of     height  weight\n",
              "0      170      70\n",
              "1      168      66\n",
              "2      177      73\n",
              "3      181      77\n",
              "4      172      74\n",
              "..     ...     ...\n",
              "74     150      73\n",
              "75     168      82\n",
              "76     168      61\n",
              "77     193      80\n",
              "78     170      73\n",
              "\n",
              "[79 rows x 2 columns]>"
            ]
          },
          "metadata": {
            "tags": []
          },
          "execution_count": 99
        }
      ]
    },
    {
      "cell_type": "code",
      "metadata": {
        "id": "AhnY1-JSB2hb",
        "outputId": "9928268b-f0e6-40f2-e517-5e65eaa95ef3",
        "colab": {
          "base_uri": "https://localhost:8080/",
          "height": 1000
        }
      },
      "source": [
        "# body = body[(body['height']<190) & (body['height']>150)]\n",
        "# body"
      ],
      "execution_count": 118,
      "outputs": [
        {
          "output_type": "execute_result",
          "data": {
            "text/html": [
              "<div>\n",
              "<style scoped>\n",
              "    .dataframe tbody tr th:only-of-type {\n",
              "        vertical-align: middle;\n",
              "    }\n",
              "\n",
              "    .dataframe tbody tr th {\n",
              "        vertical-align: top;\n",
              "    }\n",
              "\n",
              "    .dataframe thead th {\n",
              "        text-align: right;\n",
              "    }\n",
              "</style>\n",
              "<table border=\"1\" class=\"dataframe\">\n",
              "  <thead>\n",
              "    <tr style=\"text-align: right;\">\n",
              "      <th></th>\n",
              "      <th>height</th>\n",
              "      <th>weight</th>\n",
              "    </tr>\n",
              "  </thead>\n",
              "  <tbody>\n",
              "    <tr>\n",
              "      <th>0</th>\n",
              "      <td>170</td>\n",
              "      <td>70</td>\n",
              "    </tr>\n",
              "    <tr>\n",
              "      <th>1</th>\n",
              "      <td>168</td>\n",
              "      <td>66</td>\n",
              "    </tr>\n",
              "    <tr>\n",
              "      <th>2</th>\n",
              "      <td>177</td>\n",
              "      <td>73</td>\n",
              "    </tr>\n",
              "    <tr>\n",
              "      <th>3</th>\n",
              "      <td>181</td>\n",
              "      <td>77</td>\n",
              "    </tr>\n",
              "    <tr>\n",
              "      <th>4</th>\n",
              "      <td>172</td>\n",
              "      <td>74</td>\n",
              "    </tr>\n",
              "    <tr>\n",
              "      <th>5</th>\n",
              "      <td>171</td>\n",
              "      <td>73</td>\n",
              "    </tr>\n",
              "    <tr>\n",
              "      <th>6</th>\n",
              "      <td>169</td>\n",
              "      <td>69</td>\n",
              "    </tr>\n",
              "    <tr>\n",
              "      <th>7</th>\n",
              "      <td>175</td>\n",
              "      <td>79</td>\n",
              "    </tr>\n",
              "    <tr>\n",
              "      <th>8</th>\n",
              "      <td>174</td>\n",
              "      <td>77</td>\n",
              "    </tr>\n",
              "    <tr>\n",
              "      <th>9</th>\n",
              "      <td>178</td>\n",
              "      <td>80</td>\n",
              "    </tr>\n",
              "    <tr>\n",
              "      <th>10</th>\n",
              "      <td>170</td>\n",
              "      <td>74</td>\n",
              "    </tr>\n",
              "    <tr>\n",
              "      <th>11</th>\n",
              "      <td>167</td>\n",
              "      <td>68</td>\n",
              "    </tr>\n",
              "    <tr>\n",
              "      <th>12</th>\n",
              "      <td>177</td>\n",
              "      <td>71</td>\n",
              "    </tr>\n",
              "    <tr>\n",
              "      <th>13</th>\n",
              "      <td>182</td>\n",
              "      <td>76</td>\n",
              "    </tr>\n",
              "    <tr>\n",
              "      <th>14</th>\n",
              "      <td>173</td>\n",
              "      <td>78</td>\n",
              "    </tr>\n",
              "    <tr>\n",
              "      <th>15</th>\n",
              "      <td>171</td>\n",
              "      <td>72</td>\n",
              "    </tr>\n",
              "    <tr>\n",
              "      <th>16</th>\n",
              "      <td>170</td>\n",
              "      <td>68</td>\n",
              "    </tr>\n",
              "    <tr>\n",
              "      <th>17</th>\n",
              "      <td>179</td>\n",
              "      <td>79</td>\n",
              "    </tr>\n",
              "    <tr>\n",
              "      <th>18</th>\n",
              "      <td>175</td>\n",
              "      <td>77</td>\n",
              "    </tr>\n",
              "    <tr>\n",
              "      <th>19</th>\n",
              "      <td>177</td>\n",
              "      <td>81</td>\n",
              "    </tr>\n",
              "    <tr>\n",
              "      <th>20</th>\n",
              "      <td>186</td>\n",
              "      <td>84</td>\n",
              "    </tr>\n",
              "    <tr>\n",
              "      <th>21</th>\n",
              "      <td>166</td>\n",
              "      <td>73</td>\n",
              "    </tr>\n",
              "    <tr>\n",
              "      <th>22</th>\n",
              "      <td>183</td>\n",
              "      <td>78</td>\n",
              "    </tr>\n",
              "    <tr>\n",
              "      <th>23</th>\n",
              "      <td>168</td>\n",
              "      <td>69</td>\n",
              "    </tr>\n",
              "    <tr>\n",
              "      <th>25</th>\n",
              "      <td>170</td>\n",
              "      <td>77</td>\n",
              "    </tr>\n",
              "    <tr>\n",
              "      <th>26</th>\n",
              "      <td>170</td>\n",
              "      <td>70</td>\n",
              "    </tr>\n",
              "    <tr>\n",
              "      <th>28</th>\n",
              "      <td>170</td>\n",
              "      <td>71</td>\n",
              "    </tr>\n",
              "    <tr>\n",
              "      <th>29</th>\n",
              "      <td>165</td>\n",
              "      <td>70</td>\n",
              "    </tr>\n",
              "    <tr>\n",
              "      <th>33</th>\n",
              "      <td>155</td>\n",
              "      <td>86</td>\n",
              "    </tr>\n",
              "    <tr>\n",
              "      <th>34</th>\n",
              "      <td>165</td>\n",
              "      <td>84</td>\n",
              "    </tr>\n",
              "    <tr>\n",
              "      <th>36</th>\n",
              "      <td>170</td>\n",
              "      <td>70</td>\n",
              "    </tr>\n",
              "    <tr>\n",
              "      <th>38</th>\n",
              "      <td>165</td>\n",
              "      <td>70</td>\n",
              "    </tr>\n",
              "    <tr>\n",
              "      <th>41</th>\n",
              "      <td>165</td>\n",
              "      <td>68</td>\n",
              "    </tr>\n",
              "    <tr>\n",
              "      <th>42</th>\n",
              "      <td>165</td>\n",
              "      <td>68</td>\n",
              "    </tr>\n",
              "    <tr>\n",
              "      <th>43</th>\n",
              "      <td>180</td>\n",
              "      <td>77</td>\n",
              "    </tr>\n",
              "    <tr>\n",
              "      <th>44</th>\n",
              "      <td>168</td>\n",
              "      <td>64</td>\n",
              "    </tr>\n",
              "    <tr>\n",
              "      <th>47</th>\n",
              "      <td>165</td>\n",
              "      <td>82</td>\n",
              "    </tr>\n",
              "    <tr>\n",
              "      <th>49</th>\n",
              "      <td>165</td>\n",
              "      <td>98</td>\n",
              "    </tr>\n",
              "    <tr>\n",
              "      <th>51</th>\n",
              "      <td>165</td>\n",
              "      <td>63</td>\n",
              "    </tr>\n",
              "    <tr>\n",
              "      <th>52</th>\n",
              "      <td>160</td>\n",
              "      <td>68</td>\n",
              "    </tr>\n",
              "    <tr>\n",
              "      <th>53</th>\n",
              "      <td>160</td>\n",
              "      <td>66</td>\n",
              "    </tr>\n",
              "    <tr>\n",
              "      <th>54</th>\n",
              "      <td>165</td>\n",
              "      <td>73</td>\n",
              "    </tr>\n",
              "    <tr>\n",
              "      <th>55</th>\n",
              "      <td>165</td>\n",
              "      <td>66</td>\n",
              "    </tr>\n",
              "    <tr>\n",
              "      <th>56</th>\n",
              "      <td>165</td>\n",
              "      <td>70</td>\n",
              "    </tr>\n",
              "    <tr>\n",
              "      <th>57</th>\n",
              "      <td>163</td>\n",
              "      <td>74</td>\n",
              "    </tr>\n",
              "    <tr>\n",
              "      <th>58</th>\n",
              "      <td>170</td>\n",
              "      <td>69</td>\n",
              "    </tr>\n",
              "    <tr>\n",
              "      <th>59</th>\n",
              "      <td>165</td>\n",
              "      <td>70</td>\n",
              "    </tr>\n",
              "    <tr>\n",
              "      <th>60</th>\n",
              "      <td>155</td>\n",
              "      <td>64</td>\n",
              "    </tr>\n",
              "    <tr>\n",
              "      <th>61</th>\n",
              "      <td>165</td>\n",
              "      <td>66</td>\n",
              "    </tr>\n",
              "    <tr>\n",
              "      <th>62</th>\n",
              "      <td>165</td>\n",
              "      <td>68</td>\n",
              "    </tr>\n",
              "    <tr>\n",
              "      <th>63</th>\n",
              "      <td>160</td>\n",
              "      <td>64</td>\n",
              "    </tr>\n",
              "    <tr>\n",
              "      <th>64</th>\n",
              "      <td>163</td>\n",
              "      <td>77</td>\n",
              "    </tr>\n",
              "    <tr>\n",
              "      <th>66</th>\n",
              "      <td>165</td>\n",
              "      <td>62</td>\n",
              "    </tr>\n",
              "    <tr>\n",
              "      <th>69</th>\n",
              "      <td>171</td>\n",
              "      <td>56</td>\n",
              "    </tr>\n",
              "    <tr>\n",
              "      <th>70</th>\n",
              "      <td>162</td>\n",
              "      <td>79</td>\n",
              "    </tr>\n",
              "    <tr>\n",
              "      <th>73</th>\n",
              "      <td>163</td>\n",
              "      <td>77</td>\n",
              "    </tr>\n",
              "    <tr>\n",
              "      <th>75</th>\n",
              "      <td>168</td>\n",
              "      <td>82</td>\n",
              "    </tr>\n",
              "    <tr>\n",
              "      <th>76</th>\n",
              "      <td>168</td>\n",
              "      <td>61</td>\n",
              "    </tr>\n",
              "    <tr>\n",
              "      <th>78</th>\n",
              "      <td>170</td>\n",
              "      <td>73</td>\n",
              "    </tr>\n",
              "  </tbody>\n",
              "</table>\n",
              "</div>"
            ],
            "text/plain": [
              "    height  weight\n",
              "0      170      70\n",
              "1      168      66\n",
              "2      177      73\n",
              "3      181      77\n",
              "4      172      74\n",
              "5      171      73\n",
              "6      169      69\n",
              "7      175      79\n",
              "8      174      77\n",
              "9      178      80\n",
              "10     170      74\n",
              "11     167      68\n",
              "12     177      71\n",
              "13     182      76\n",
              "14     173      78\n",
              "15     171      72\n",
              "16     170      68\n",
              "17     179      79\n",
              "18     175      77\n",
              "19     177      81\n",
              "20     186      84\n",
              "21     166      73\n",
              "22     183      78\n",
              "23     168      69\n",
              "25     170      77\n",
              "26     170      70\n",
              "28     170      71\n",
              "29     165      70\n",
              "33     155      86\n",
              "34     165      84\n",
              "36     170      70\n",
              "38     165      70\n",
              "41     165      68\n",
              "42     165      68\n",
              "43     180      77\n",
              "44     168      64\n",
              "47     165      82\n",
              "49     165      98\n",
              "51     165      63\n",
              "52     160      68\n",
              "53     160      66\n",
              "54     165      73\n",
              "55     165      66\n",
              "56     165      70\n",
              "57     163      74\n",
              "58     170      69\n",
              "59     165      70\n",
              "60     155      64\n",
              "61     165      66\n",
              "62     165      68\n",
              "63     160      64\n",
              "64     163      77\n",
              "66     165      62\n",
              "69     171      56\n",
              "70     162      79\n",
              "73     163      77\n",
              "75     168      82\n",
              "76     168      61\n",
              "78     170      73"
            ]
          },
          "metadata": {
            "tags": []
          },
          "execution_count": 118
        }
      ]
    },
    {
      "cell_type": "code",
      "metadata": {
        "id": "1Lm_UO2XSEGJ"
      },
      "source": [
        "body_shuffled=body.sample(frac=1).reset_index(drop=True)"
      ],
      "execution_count": 131,
      "outputs": []
    },
    {
      "cell_type": "code",
      "metadata": {
        "id": "u_sy0lqCKk48",
        "outputId": "53d4bef8-0dac-43ea-d7dc-3c5c1c056816",
        "colab": {
          "base_uri": "https://localhost:8080/"
        }
      },
      "source": [
        "split_point = round(len(body)*0.7)\n",
        "split_point"
      ],
      "execution_count": 143,
      "outputs": [
        {
          "output_type": "execute_result",
          "data": {
            "text/plain": [
              "17"
            ]
          },
          "metadata": {
            "tags": []
          },
          "execution_count": 143
        }
      ]
    },
    {
      "cell_type": "code",
      "metadata": {
        "id": "GvsID2bOl162",
        "outputId": "f8a866ae-5e55-4b34-c389-278841b3054f",
        "colab": {
          "base_uri": "https://localhost:8080/",
          "height": 279
        }
      },
      "source": [
        "# 산점도(scatter) 그리기\n",
        "\n",
        "import matplotlib.pylab as plt\n",
        "\n",
        "plt.scatter( body_shuffled['weight'], body_shuffled['height'], label = \"data\")\n",
        "\n",
        "plt.legend(loc = \"best\")\n",
        "plt.xlabel('weight')\n",
        "plt.ylabel('height')\n",
        "plt.show()"
      ],
      "execution_count": 144,
      "outputs": [
        {
          "output_type": "display_data",
          "data": {
            "image/png": "[encoded data removed]",
            "text/plain": [
              "<Figure size 432x288 with 1 Axes>"
            ]
          },
          "metadata": {
            "tags": [],
            "needs_background": "light"
          }
        }
      ]
    },
    {
      "cell_type": "code",
      "metadata": {
        "id": "RkHtwapWl19X",
        "outputId": "74dfa484-7fdd-435d-dc5f-1d9486814c82",
        "colab": {
          "base_uri": "https://localhost:8080/"
        }
      },
      "source": [
        "# Train & Test set 분리\n",
        "train_x = body_shuffled['height'][:split_point]\n",
        "test_x = body_shuffled['height'][split_point:]\n",
        "train_y = body_shuffled['weight'][:split_point]\n",
        "test_y = body_shuffled['weight'][split_point:]\n",
        "\n",
        "train_x = train_x.values.reshape(-1,1)\n",
        "test_x = test_x.values.reshape(-1,1)\n",
        "\n",
        "all_x = np.vstack((train_x, test_x))\n",
        "\n",
        "# Create linear regression object\n",
        "regr = linear_model.LinearRegression()\n",
        "\n",
        "# Train the model using the training sets\n",
        "regr.fit(train_x, train_y)"
      ],
      "execution_count": 145,
      "outputs": [
        {
          "output_type": "execute_result",
          "data": {
            "text/plain": [
              "LinearRegression()"
            ]
          },
          "metadata": {
            "tags": []
          },
          "execution_count": 145
        }
      ]
    },
    {
      "cell_type": "code",
      "metadata": {
        "id": "dfNkqyCVyeYX"
      },
      "source": [
        "def regr_model_summary(regr, data_x, real_y):\n",
        "  # Make predictions using the testing set\n",
        "  pred_y = regr.predict(data_x)\n",
        "\n",
        "  # The coefficientsbb\n",
        "  print('Coefficients: ', regr.coef_, \"\\t Intercept: \", regr.intercept_)\n",
        "  # The mean squared error\n",
        "  # print('Mean Squared Log Error: %.2f'% mean_squared_log_error(test_y, pred_y))\n",
        "  print('Mean Absolute Percentage Error: %.2f'% mean_absolute_percentage_error(real_y, pred_y))\n",
        "  # The coefficient of determination: 1 is perfect prediction\n",
        "  print('Coefficient of determination: %.2f'% r2_score(real_y, pred_y))\n",
        "\n",
        "  params = np.append(regr.intercept_,regr.coef_)\n",
        "  print(\"params =\", params)\n",
        "\n",
        "\n",
        "  new_x = np.append(np.ones((len(data_x),1)), data_x, axis=1)\n",
        "  # print(\"test_x sample : \", data_x[:5])\n",
        "  # print(\"new_x sample : \", new_x[:5])\n",
        "\n",
        "  print(\"test_x shape is \", data_x.shape, \"new_x shape is \", new_x.shape)\n",
        "  MSE = (sum((real_y-pred_y)**2))/(len(new_x)-len(test_x[0])) # divides by the number of samples n-p where p is the number of features\n",
        "\n",
        "  # print(\"len(new_x) : \", len(new_x), \"len(test_x[0]): \", len(data_x[0]))\n",
        "\n",
        "  # Note if you don't want to use a DataFrame replace the two lines above with\n",
        "  # newX = np.append(np.ones((len(X),1)), X, axis=1)\n",
        "  # MSE = (sum((y-predictions)**2))/(len(newX)-len(newX[0]))\n",
        "\n",
        "  var_b = MSE*(np.linalg.inv(np.dot(new_x.T,new_x)).diagonal()) # calculate variance\n",
        "  sd_b = np.sqrt(var_b) # calculate standard deviation\n",
        "  ts_b = params/ sd_b # calcluate t-value\n",
        "\n",
        "  print(\"variance : \", var_b, \"standard deviation \", sd_b, \"t_value: \", ts_b)\n",
        "\n",
        "  # print(\"new_x : \", new_x, \"new_x[0]: \", new_x[0], \"new_x.shape: \", new_x.shape)\n",
        "\n",
        "\n",
        "  # p_values =[2*(1-stats.t.cdf(np.abs(i),(len(new_x)-len(new_x[0])))) for i in ts_b]\n",
        "  p_values =[2*(1-stats.t.cdf(np.abs(i),(len(new_x)-len(data_x[0])))) for i in ts_b]\n",
        "\n",
        "  sd_b = np.round(sd_b,3)\n",
        "  ts_b = np.round(ts_b,3)\n",
        "  p_values = np.round(p_values,3)\n",
        "  params = np.round(params,4)\n",
        "\n",
        "  myDF3 = pd.DataFrame()\n",
        "  myDF3[\"Coefficients\"],myDF3[\"Standard Errors\"],myDF3[\"t values\"],myDF3[\"p_values\"] = [params,sd_b,ts_b,p_values]\n",
        "  # to print summary table:\n",
        "  print(\"\\n=========== SUMMARY ===========\")\n",
        "  print(myDF3)\n",
        "\n",
        "  return pred_y"
      ],
      "execution_count": 149,
      "outputs": []
    },
    {
      "cell_type": "code",
      "metadata": {
        "id": "wLADVYxwDMgX",
        "outputId": "04b418d6-d0bc-4c41-caae-8aeea7265450",
        "colab": {
          "base_uri": "https://localhost:8080/"
        }
      },
      "source": [
        "pred_y = regr_model_summary(regr, test_x, test_y)"
      ],
      "execution_count": 151,
      "outputs": [
        {
          "output_type": "stream",
          "text": [
            "Coefficients:  [0.62160778] \t Intercept:  -33.069124423963146\n",
            "Mean Absolute Percentage Error: 0.04\n",
            "Coefficient of determination: 0.30\n",
            "params = [-33.06912442   0.62160778]\n",
            "test_x shape is  (7, 1) new_x shape is  (7, 2)\n",
            "variance :  [2.04850708e+03 6.86033919e-02] standard deviation  [45.26043618  0.26192249] t_value:  [-0.73064087  2.37325087]\n",
            "\n",
            "=========== SUMMARY ===========\n",
            "   Coefficients  Standard Errors  t values  p_values\n",
            "0      -33.0691           45.260    -0.731     0.493\n",
            "1        0.6216            0.262     2.373     0.055\n"
          ],
          "name": "stdout"
        }
      ]
    },
    {
      "cell_type": "code",
      "metadata": {
        "id": "_D_B_7j2YZY_",
        "outputId": "cb968cef-b614-420a-99f3-e5a61a9d5b28",
        "colab": {
          "base_uri": "https://localhost:8080/"
        }
      },
      "source": [
        "params = np.append(regr.intercept_,regr.coef_)\n",
        "print(\"params =\", params)\n",
        "\n",
        "# Make predictions using the testing set\n",
        "pred_y = regr.predict(test_x)\n",
        "\n",
        "# new_x = pd.DataFrame({\"Constant\":np.ones(len(test_x))}).join(pd.DataFrame(test_x))\n",
        "# MSE = (sum((test_y-pred_y)**2))/(len(new_x)-len(new_x.columns))\n",
        "\n",
        "new_x = np.append(np.ones((len(test_x),1)), test_x, axis=1)\n",
        "print(\"test_x sample : \", test_x[:5])\n",
        "print(\"new_x sample : \", new_x[:5])\n",
        "\n",
        "print(\"test_x shape is \", test_x.shape, \"new_x shape is \", new_x.shape)\n",
        "MSE = (sum((test_y-pred_y)**2))/(len(new_x)-len(test_x[0])) # divides by the number of samples n-p where p is the number of features\n",
        "\n",
        "print(\"len(new_x) : \", len(new_x), \"len(test_x[0]): \", len(test_x[0]))\n",
        "\n",
        "# Note if you don't want to use a DataFrame replace the two lines above with\n",
        "# newX = np.append(np.ones((len(X),1)), X, axis=1)\n",
        "# MSE = (sum((y-predictions)**2))/(len(newX)-len(newX[0]))\n",
        "\n",
        "var_b = MSE*(np.linalg.inv(np.dot(new_x.T,new_x)).diagonal()) # calculate variance\n",
        "sd_b = np.sqrt(var_b) # calculate standard deviation\n",
        "ts_b = params/ sd_b # calcluate t-value\n",
        "\n",
        "print(\"variance : \", var_b, \"standard deviation \", sd_b, \"t_value: \", ts_b)\n",
        "\n",
        "# print(\"new_x : \", new_x, \"new_x[0]: \", new_x[0], \"new_x.shape: \", new_x.shape)\n",
        "\n",
        "\n",
        "# p_values =[2*(1-stats.t.cdf(np.abs(i),(len(new_x)-len(new_x[0])))) for i in ts_b]\n",
        "p_values =[2*(1-stats.t.cdf(np.abs(i),(len(new_x)-len(test_x[0])))) for i in ts_b]\n",
        "\n",
        "sd_b = np.round(sd_b,3)\n",
        "ts_b = np.round(ts_b,3)\n",
        "p_values = np.round(p_values,3)\n",
        "params = np.round(params,4)\n",
        "\n",
        "myDF3 = pd.DataFrame()\n",
        "myDF3[\"Coefficients\"],myDF3[\"Standard Errors\"],myDF3[\"t values\"],myDF3[\"p_values\"] = [params,sd_b,ts_b,p_values]\n",
        "# to print summary table:\n",
        "print(\"\\n=========== SUMMARY ===========\")\n",
        "print(myDF3)"
      ],
      "execution_count": 97,
      "outputs": [
        {
          "output_type": "stream",
          "text": [
            "params = [33.12792027  0.21407704]\n",
            "test_x sample :  [[137]\n",
            " [147]\n",
            " [198]\n",
            " [165]\n",
            " [165]]\n",
            "new_x sample :  [[  1. 137.]\n",
            " [  1. 147.]\n",
            " [  1. 198.]\n",
            " [  1. 165.]\n",
            " [  1. 165.]]\n",
            "test_x shape is  (36, 1) new_x shape is  (36, 2)\n",
            "len(new_x) :  36 len(test_x[0]):  1\n",
            "variance :  [4.50154512e+02 1.61004906e-02] standard deviation  [21.21684501  0.12688771] t_value:  [1.5613971  1.68713773]\n",
            "\n",
            "=========== SUMMARY ===========\n",
            "   Coefficients  Standard Errors  t values  p_values\n",
            "0       33.1279           21.217     1.561     0.127\n",
            "1        0.2141            0.127     1.687     0.100\n"
          ],
          "name": "stdout"
        }
      ]
    },
    {
      "cell_type": "code",
      "metadata": {
        "id": "AcrRibulYcsO",
        "outputId": "d8704051-8a2e-48ce-d08e-af75caae299e",
        "colab": {
          "base_uri": "https://localhost:8080/",
          "height": 324
        }
      },
      "source": [
        "# The coefficientsbb\n",
        "print('Coefficients: \\n', regr.coef_, \"\\t Intercept: \", regr.intercept_)\n",
        "# The mean squared error\n",
        "# print('Mean Squared Log Error: %.2f'% mean_squared_log_error(test_y, pred_y))\n",
        "print('Mean Absolute Percentage Error: %.2f'% mean_absolute_percentage_error(test_y, pred_y))\n",
        "# The coefficient of determination: 1 is perfect prediction\n",
        "print('Coefficient of determination: %.2f'% r2_score(test_y, pred_y))\n",
        "\n",
        "# Plot outputs\n",
        "plt.scatter(test_x, test_y,  color='black')\n",
        "plt.plot(test_x, pred_y, color='blue', linewidth=3)\n",
        "\n",
        "plt.xticks(())\n",
        "plt.yticks(())\n",
        "\n",
        "plt.show()"
      ],
      "execution_count": 152,
      "outputs": [
        {
          "output_type": "stream",
          "text": [
            "Coefficients: \n",
            " [0.62160778] \t Intercept:  -33.069124423963146\n",
            "Mean Absolute Percentage Error: 0.04\n",
            "Coefficient of determination: 0.30\n"
          ],
          "name": "stdout"
        },
        {
          "output_type": "display_data",
          "data": {
            "image/png": "[encoded data removed]",
            "text/plain": [
              "<Figure size 432x288 with 1 Axes>"
            ]
          },
          "metadata": {
            "tags": []
          }
        }
      ]
    },
    {
      "cell_type": "code",
      "metadata": {
        "id": "DxMQhimhNFqP",
        "outputId": "e57a9207-71a7-418f-9480-7365cdbadbf4",
        "colab": {
          "base_uri": "https://localhost:8080/"
        }
      },
      "source": [
        "train_x.shape"
      ],
      "execution_count": 67,
      "outputs": [
        {
          "output_type": "execute_result",
          "data": {
            "text/plain": [
              "(54, 1)"
            ]
          },
          "metadata": {
            "tags": []
          },
          "execution_count": 67
        }
      ]
    },
    {
      "cell_type": "code",
      "metadata": {
        "id": "oisGTv-5l1_p",
        "outputId": "3c2ae761-c6c0-49b6-d5c2-9ecf1ceb9221",
        "colab": {
          "base_uri": "https://localhost:8080/"
        }
      },
      "source": [
        "# body dataset을 scaling\n",
        "from sklearn.preprocessing import StandardScaler\n",
        "standardScaler = StandardScaler()\n",
        "standardScaler.fit(all_x)\n",
        "body_standardScaled_x = standardScaler.transform(all_x)\n",
        "body_standardScaled_x"
      ],
      "execution_count": 47,
      "outputs": [
        {
          "output_type": "execute_result",
          "data": {
            "text/plain": [
              "array([[-0.00783886],\n",
              "       [ 1.46194717],\n",
              "       [-0.18421318],\n",
              "       [ 1.46194717],\n",
              "       [-0.00783886],\n",
              "       [ 1.75590438],\n",
              "       [-1.94795642],\n",
              "       [ 1.28557285],\n",
              "       [-0.18421318],\n",
              "       [-0.30179607],\n",
              "       [-0.30179607],\n",
              "       [-0.94850192],\n",
              "       [ 1.75590438],\n",
              "       [ 0.10974402],\n",
              "       [-0.00783886],\n",
              "       [-0.7721276 ],\n",
              "       [ 1.75590438],\n",
              "       [-0.94850192],\n",
              "       [-0.18421318],\n",
              "       [-0.18421318],\n",
              "       [-0.00783886],\n",
              "       [-0.18421318],\n",
              "       [-0.00783886],\n",
              "       [ 1.46194717],\n",
              "       [-0.12542174],\n",
              "       [-0.30179607],\n",
              "       [-0.30179607],\n",
              "       [-0.18421318],\n",
              "       [-0.47817039],\n",
              "       [-0.47817039],\n",
              "       [-1.0660848 ],\n",
              "       [ 1.28557285],\n",
              "       [-0.71333615],\n",
              "       [-1.65399922],\n",
              "       [-0.41937895],\n",
              "       [-0.36058751],\n",
              "       [ 1.75590438],\n",
              "       [ 0.10974402],\n",
              "       [ 1.28557285],\n",
              "       [-0.47817039],\n",
              "       [-1.53641633],\n",
              "       [-0.00783886],\n",
              "       [ 1.75590438],\n",
              "       [-0.47817039],\n",
              "       [-1.24245913],\n",
              "       [ 0.10974402],\n",
              "       [-0.18421318],\n",
              "       [-0.30179607],\n",
              "       [-0.47817039],\n",
              "       [ 0.16853547],\n",
              "       [ 0.10974402],\n",
              "       [-0.30179607],\n",
              "       [-1.83037354],\n",
              "       [ 1.28557285],\n",
              "       [-0.30179607],\n",
              "       [-0.00783886],\n",
              "       [-0.30179607],\n",
              "       [-1.53641633],\n",
              "       [ 0.10974402],\n",
              "       [-0.18421318],\n",
              "       [ 1.46194717],\n",
              "       [-1.83037354],\n",
              "       [ 1.46194717],\n",
              "       [ 1.28557285],\n",
              "       [-0.47817039],\n",
              "       [-0.00783886],\n",
              "       [ 1.75590438],\n",
              "       [-0.36058751],\n",
              "       [-0.18421318],\n",
              "       [-1.83037354],\n",
              "       [-0.18421318],\n",
              "       [-0.00783886],\n",
              "       [-1.53641633],\n",
              "       [-0.18421318],\n",
              "       [-0.18421318],\n",
              "       [-1.53641633],\n",
              "       [ 1.75590438],\n",
              "       [ 1.46194717],\n",
              "       [-0.7721276 ],\n",
              "       [-0.18421318],\n",
              "       [-0.30179607],\n",
              "       [-0.18421318],\n",
              "       [-0.00783886],\n",
              "       [ 1.28557285],\n",
              "       [ 1.75590438],\n",
              "       [ 1.46194717],\n",
              "       [ 0.69765844],\n",
              "       [-2.12433075],\n",
              "       [ 0.10974402],\n",
              "       [-0.18421318]])"
            ]
          },
          "metadata": {
            "tags": []
          },
          "execution_count": 47
        }
      ]
    },
    {
      "cell_type": "code",
      "metadata": {
        "id": "hG3ZVnVOl2CY",
        "outputId": "d4324140-0cd4-4497-ae8a-acd55d4b4727",
        "colab": {
          "base_uri": "https://localhost:8080/"
        }
      },
      "source": [
        "print(np.mean(body_standardScaled_x, axis=0))"
      ],
      "execution_count": 49,
      "outputs": [
        {
          "output_type": "stream",
          "text": [
            "[4.45322791e-16]\n"
          ],
          "name": "stdout"
        }
      ]
    },
    {
      "cell_type": "code",
      "metadata": {
        "id": "m02Bvnb0l2E3",
        "outputId": "99dbcb8e-1f41-4f4f-9437-2332fa55ab5b",
        "colab": {
          "base_uri": "https://localhost:8080/"
        }
      },
      "source": [
        "body_standardScaled_x[:,0][split_point:]"
      ],
      "execution_count": 51,
      "outputs": [
        {
          "output_type": "execute_result",
          "data": {
            "text/plain": [
              "array([-0.30179607, -0.00783886, -0.30179607, -1.53641633,  0.10974402,\n",
              "       -0.18421318,  1.46194717, -1.83037354,  1.46194717,  1.28557285,\n",
              "       -0.47817039, -0.00783886,  1.75590438, -0.36058751, -0.18421318,\n",
              "       -1.83037354, -0.18421318, -0.00783886, -1.53641633, -0.18421318,\n",
              "       -0.18421318, -1.53641633,  1.75590438,  1.46194717, -0.7721276 ,\n",
              "       -0.18421318, -0.30179607, -0.18421318, -0.00783886,  1.28557285,\n",
              "        1.75590438,  1.46194717,  0.69765844, -2.12433075,  0.10974402,\n",
              "       -0.18421318])"
            ]
          },
          "metadata": {
            "tags": []
          },
          "execution_count": 51
        }
      ]
    },
    {
      "cell_type": "code",
      "metadata": {
        "id": "CdpI6lLxl2HZ",
        "outputId": "f27ea935-d986-4d54-821b-7d1097203256",
        "colab": {
          "base_uri": "https://localhost:8080/",
          "height": 342
        }
      },
      "source": [
        "# Train & Test set 분리\n",
        "train_x = body_standardScaled_x[:,0][:split_point]\n",
        "test_x = body_standardScaled_x[:,0][split_point:]\n",
        "train_y = body_shuffled['weight'][:split_point]\n",
        "test_y = body_shuffled['weight'][split_point:]\n",
        "\n",
        "train_x = train_x.reshape(-1,1)\n",
        "test_x = test_x.reshape(-1,1)\n",
        "\n",
        "\n",
        "# Create linear regression object\n",
        "regr = linear_model.LinearRegression()\n",
        "\n",
        "# Train the model using the training sets\n",
        "regr.fit(train_x, train_y)\n",
        "\n",
        "# Make predictions using the testing set\n",
        "pred_y = regr.predict(test_x)\n",
        "\n",
        "# The coefficients\n",
        "print('Coefficients: \\n', regr.coef_, \"Intercept: \", regr.intercept_)\n",
        "# The mean squared error\n",
        "print('Mean Squared Log Error: %.2f'% mean_squared_log_error(test_y, pred_y))\n",
        "print('Mean Absolute Percentage Error: %.2f'% mean_absolute_percentage_error(test_y, pred_y))\n",
        "# The coefficient of determination: 1 is perfect prediction\n",
        "print('Coefficient of determination: %.2f'% r2_score(test_y, pred_y))\n",
        "\n",
        "# Plot outputs\n",
        "plt.scatter(test_x, test_y,  color='black')\n",
        "plt.plot(test_x, pred_y, color='blue', linewidth=3)\n",
        "\n",
        "plt.xticks(())\n",
        "plt.yticks(())\n",
        "\n",
        "plt.show()"
      ],
      "execution_count": 52,
      "outputs": [
        {
          "output_type": "stream",
          "text": [
            "Coefficients: \n",
            " [4.86812275] Intercept:  70.42436764166038\n",
            "Mean Squared Log Error: 0.03\n",
            "Mean Absolute Percentage Error: 0.14\n",
            "Coefficient of determination: 0.01\n"
          ],
          "name": "stdout"
        },
        {
          "output_type": "display_data",
          "data": {
            "image/png": "[encoded data removed]",
            "text/plain": [
              "<Figure size 432x288 with 1 Axes>"
            ]
          },
          "metadata": {
            "tags": []
          }
        }
      ]
    },
    {
      "cell_type": "code",
      "metadata": {
        "id": "gIfTDmcrl2KR"
      },
      "source": [
        ""
      ],
      "execution_count": null,
      "outputs": []
    },
    {
      "cell_type": "code",
      "metadata": {
        "id": "qd7qYrTjl2M2"
      },
      "source": [
        ""
      ],
      "execution_count": null,
      "outputs": []
    }
  ]
}