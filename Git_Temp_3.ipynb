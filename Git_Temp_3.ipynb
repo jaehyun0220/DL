{
  "nbformat": 4,
  "nbformat_minor": 0,
  "metadata": {
    "colab": {
      "name": "Git_Temp_3.ipynb",
      "provenance": [],
      "authorship_tag": "ABX9TyNYr9C2sVP0RsyP4/4NFZ6C",
      "include_colab_link": true
    },
    "kernelspec": {
      "name": "python3",
      "display_name": "Python 3"
    },
    "language_info": {
      "name": "python"
    }
  },
  "cells": [
    {
      "cell_type": "markdown",
      "metadata": {
        "id": "view-in-github",
        "colab_type": "text"
      },
      "source": [
        "<a href=\"https://colab.research.google.com/github/jaehyun0220/DL/blob/master/Git_Temp_3.ipynb\" target=\"_parent\"><img src=\"https://colab.research.google.com/assets/colab-badge.svg\" alt=\"Open In Colab\"/></a>"
      ]
    },
    {
      "cell_type": "code",
      "metadata": {
        "id": "wZtiZlnZJv70"
      },
      "source": [
        "# !pip install scikit-learn --upgrade"
      ],
      "execution_count": 253,
      "outputs": []
    },
    {
      "cell_type": "code",
      "metadata": {
        "id": "hVUTvOjRh0Rq",
        "colab": {
          "base_uri": "https://localhost:8080/"
        },
        "outputId": "c69709d9-910d-4567-af2e-9480f2e21260"
      },
      "source": [
        "# 데이터 활용에 필요한 기본 패키지 로딩\n",
        "import sys #access to system parameters \n",
        "print(\"Python version: {}\". format(sys.version))\n",
        "\n",
        "import pandas as pd\n",
        "print(\"pandas version: {}\". format(pd.__version__))\n",
        "\n",
        "import sklearn #collection of machine learning algorithms\n",
        "print(\"scikit-learn version: {}\". format(sklearn.__version__))\n",
        "\n",
        "import numpy as np #foundational package for scientific computing\n",
        "print(\"NumPy version: {}\". format(np.__version__))\n",
        "\n",
        "import tensorflow as tf\n",
        "print(\"tensorflow version: {}\".format(tf.__version__))\n",
        "\n",
        "import os"
      ],
      "execution_count": 254,
      "outputs": [
        {
          "output_type": "stream",
          "text": [
            "Python version: 3.7.10 (default, May  3 2021, 02:48:31) \n",
            "[GCC 7.5.0]\n",
            "pandas version: 1.1.5\n",
            "scikit-learn version: 0.24.2\n",
            "NumPy version: 1.19.5\n",
            "tensorflow version: 2.4.1\n"
          ],
          "name": "stdout"
        }
      ]
    },
    {
      "cell_type": "code",
      "metadata": {
        "id": "g9lgkeSLl12f"
      },
      "source": [
        "import matplotlib.pyplot as plt\n",
        "import numpy as np\n",
        "from sklearn import datasets, linear_model\n",
        "from scipy import stats\n",
        "\n",
        "from sklearn.metrics import mean_squared_error, mean_squared_log_error, mean_absolute_percentage_error, r2_score\n",
        "from sklearn import model_selection\n",
        "\n",
        "# height = [170, 168, 177, 181 ,172, 171, 169, 175, 174, 178, 170, 167, 177, 182 ,173, 171, 170, 179, 175, 177, 186, 166, 183, 168, 198, 170, 170, 198, 170, 165, 193, 142, 137, 155, 165, 147, 170, 140, 165, 132, 137, 165, 165, 180, 168, 142, 193, 165, 142, 165, 137, 165, 160, 160, 165, 165, 165, 163, 170, 165, 155, 165, 165, 160, 163, 135, 165, 142, 193, 171, 162, 198, 190, 163, 150, 168, 168, 193, 170]\n",
        "# weight = [70, 66, 73, 77, 74, 73, 69, 79, 77, 80, 74, 68, 71, 76, 78, 72, 68, 79, 77, 81, 84, 73, 78, 69, 98, 77, 70, 90, 71, 70, 73, 59, 68, 86, 84, 67, 70, 86, 70, 75, 70, 68, 68, 77, 64, 86, 70, 82, 88, 98, 86, 63, 68, 66, 73, 66, 70, 74, 69, 70, 64, 66, 68, 64, 77, 70, 62, 79, 68, 56, 79, 82, 80, 77, 73, 82, 61, 80, 73]\n",
        "\n",
        "height = [170, 168, 177, 181 ,172, 171, 169, 175, 174, 178, 170, 167, 177, 182 ,173, 171, 170, 179, 175, 177, 186, 166, 183, 168]\n",
        "weight = [70, 66, 73, 77, 74, 73, 69, 79, 77, 80, 74, 68, 71, 76, 78, 72, 68, 79, 77, 81, 84, 73, 78, 69]\n",
        "\n",
        "# DataFrame 만들기\n",
        "\n",
        "body = pd.DataFrame(\n",
        "    {'height': height, 'weight': weight}\n",
        ")"
      ],
      "execution_count": 255,
      "outputs": []
    },
    {
      "cell_type": "code",
      "metadata": {
        "id": "PhmOQkMZl14S",
        "colab": {
          "base_uri": "https://localhost:8080/"
        },
        "outputId": "3cb6090d-a919-4a8a-e398-0bbfaf21c3c0"
      },
      "source": [
        "body.info"
      ],
      "execution_count": 256,
      "outputs": [
        {
          "output_type": "execute_result",
          "data": {
            "text/plain": [
              "<bound method DataFrame.info of     height  weight\n",
              "0      170      70\n",
              "1      168      66\n",
              "2      177      73\n",
              "3      181      77\n",
              "4      172      74\n",
              "5      171      73\n",
              "6      169      69\n",
              "7      175      79\n",
              "8      174      77\n",
              "9      178      80\n",
              "10     170      74\n",
              "11     167      68\n",
              "12     177      71\n",
              "13     182      76\n",
              "14     173      78\n",
              "15     171      72\n",
              "16     170      68\n",
              "17     179      79\n",
              "18     175      77\n",
              "19     177      81\n",
              "20     186      84\n",
              "21     166      73\n",
              "22     183      78\n",
              "23     168      69>"
            ]
          },
          "metadata": {
            "tags": []
          },
          "execution_count": 256
        }
      ]
    },
    {
      "cell_type": "code",
      "metadata": {
        "colab": {
          "base_uri": "https://localhost:8080/"
        },
        "id": "1Lm_UO2XSEGJ",
        "outputId": "17cd3293-c558-48ec-92d7-91e816be3257"
      },
      "source": [
        "body_shuffled=body.sample(frac=1, random_state = 42).reset_index(drop=True)\n",
        "body_shuffled\n",
        "body_shuffled.shape"
      ],
      "execution_count": 257,
      "outputs": [
        {
          "output_type": "execute_result",
          "data": {
            "text/plain": [
              "(24, 2)"
            ]
          },
          "metadata": {
            "tags": []
          },
          "execution_count": 257
        }
      ]
    },
    {
      "cell_type": "code",
      "metadata": {
        "colab": {
          "base_uri": "https://localhost:8080/"
        },
        "id": "u_sy0lqCKk48",
        "outputId": "872514dc-3fcc-400b-d954-333c3f5c0a7c"
      },
      "source": [
        "split_point = round(body_shuffled.shape[0]*0.7)\n",
        "split_point"
      ],
      "execution_count": 258,
      "outputs": [
        {
          "output_type": "execute_result",
          "data": {
            "text/plain": [
              "17"
            ]
          },
          "metadata": {
            "tags": []
          },
          "execution_count": 258
        }
      ]
    },
    {
      "cell_type": "code",
      "metadata": {
        "id": "GvsID2bOl162",
        "colab": {
          "base_uri": "https://localhost:8080/",
          "height": 279
        },
        "outputId": "7aaffda0-2005-4ca2-e027-836dc60231c2"
      },
      "source": [
        "# 산점도(scatter) 그리기\n",
        "\n",
        "import matplotlib.pylab as plt\n",
        "\n",
        "plt.scatter( body_shuffled['weight'], body_shuffled['height'], label = \"data\")\n",
        "\n",
        "plt.legend(loc = \"best\")\n",
        "plt.xlabel('weight')\n",
        "plt.ylabel('height')\n",
        "plt.show()"
      ],
      "execution_count": 259,
      "outputs": [
        {
          "output_type": "display_data",
          "data": {
            "image/png": "[encoded data removed]",
            "text/plain": [
              "<Figure size 432x288 with 1 Axes>"
            ]
          },
          "metadata": {
            "tags": [],
            "needs_background": "light"
          }
        }
      ]
    },
    {
      "cell_type": "code",
      "metadata": {
        "id": "RkHtwapWl19X",
        "colab": {
          "base_uri": "https://localhost:8080/"
        },
        "outputId": "cb7dd3a5-1738-4daa-8d0d-6760c3e1e10f"
      },
      "source": [
        "# Train & Test set 분리\n",
        "train_x = body_shuffled['height'][:split_point]\n",
        "test_x = body_shuffled['height'][split_point:]\n",
        "train_y = body_shuffled['weight'][:split_point]\n",
        "test_y = body_shuffled['weight'][split_point:]\n",
        "\n",
        "train_x = train_x.values.reshape(-1,1)\n",
        "test_x = test_x.values.reshape(-1,1)\n",
        "\n",
        "all_x = np.vstack((train_x, test_x))\n",
        "\n",
        "# Create linear regression object\n",
        "regr = linear_model.LinearRegression()\n",
        "\n",
        "# Train the model using the training sets\n",
        "regr.fit(train_x, train_y)"
      ],
      "execution_count": 260,
      "outputs": [
        {
          "output_type": "execute_result",
          "data": {
            "text/plain": [
              "LinearRegression()"
            ]
          },
          "metadata": {
            "tags": []
          },
          "execution_count": 260
        }
      ]
    },
    {
      "cell_type": "code",
      "metadata": {
        "id": "dfNkqyCVyeYX"
      },
      "source": [
        "def regr_model_summary(regr, data_x, real_y):\n",
        "  # Make predictions using the testing set\n",
        "  pred_y = regr.predict(data_x)\n",
        "\n",
        "  # The coefficientsbb\n",
        "  print('Coefficients: ', regr.coef_, \"\\t Intercept: \", regr.intercept_)\n",
        "  # The mean squared error\n",
        "  # print('Mean Squared Log Error: %.2f'% mean_squared_log_error(test_y, pred_y))\n",
        "  print('Mean Absolute Percentage Error: %.2f'% mean_absolute_percentage_error(real_y, pred_y))\n",
        "  # The coefficient of determination: 1 is perfect prediction\n",
        "  print('Coefficient of determination: %.2f'% r2_score(real_y, pred_y))\n",
        "\n",
        "  params = np.append(regr.intercept_,regr.coef_)\n",
        "  print(\"params =\", params)\n",
        "\n",
        "\n",
        "  new_x = np.append(np.ones((len(data_x),1)), data_x, axis=1)\n",
        "  # print(\"test_x sample : \", data_x[:5])\n",
        "  # print(\"new_x sample : \", new_x[:5])\n",
        "\n",
        "  print(\"test_x shape is \", data_x.shape, \"new_x shape is \", new_x.shape)\n",
        "  MSE = (sum((real_y-pred_y)**2))/(len(new_x)-len(test_x[0])) # divides by the number of samples n-p where p is the number of features\n",
        "\n",
        "  # print(\"len(new_x) : \", len(new_x), \"len(test_x[0]): \", len(data_x[0]))\n",
        "\n",
        "  # Note if you don't want to use a DataFrame replace the two lines above with\n",
        "  # newX = np.append(np.ones((len(X),1)), X, axis=1)\n",
        "  # MSE = (sum((y-predictions)**2))/(len(newX)-len(newX[0]))\n",
        "\n",
        "  var_b = MSE*(np.linalg.inv(np.dot(new_x.T,new_x)).diagonal()) # calculate variance\n",
        "  sd_b = np.sqrt(var_b) # calculate standard deviation\n",
        "  ts_b = params/ sd_b # calcluate t-value\n",
        "\n",
        "  print(\"variance : \", var_b, \"standard deviation \", sd_b, \"t_value: \", ts_b)\n",
        "\n",
        "  # print(\"new_x : \", new_x, \"new_x[0]: \", new_x[0], \"new_x.shape: \", new_x.shape)\n",
        "\n",
        "\n",
        "  # p_values =[2*(1-stats.t.cdf(np.abs(i),(len(new_x)-len(new_x[0])))) for i in ts_b]\n",
        "  p_values =[2*(1-stats.t.cdf(np.abs(i),(len(new_x)-len(data_x[0])))) for i in ts_b]\n",
        "\n",
        "  sd_b = np.round(sd_b,3)\n",
        "  ts_b = np.round(ts_b,3)\n",
        "  p_values = np.round(p_values,10)\n",
        "  params = np.round(params,4)\n",
        "\n",
        "  myDF3 = pd.DataFrame()\n",
        "  myDF3[\"Coefficients\"],myDF3[\"Standard Errors\"],myDF3[\"t values\"],myDF3[\"p_values\"] = [params,sd_b,ts_b,p_values]\n",
        "  # to print summary table:\n",
        "  print(\"\\n=========== SUMMARY ===========\")\n",
        "  print(myDF3)\n",
        "\n",
        "  return pred_y"
      ],
      "execution_count": 261,
      "outputs": []
    },
    {
      "cell_type": "code",
      "metadata": {
        "id": "m7D5Zi1GKrgy"
      },
      "source": [
        "def print_plot_result(data_x, data_y, pred_y):\n",
        "  print('Mean Absolute Percentage Error: %.2f'% mean_absolute_percentage_error(data_y, pred_y))\n",
        "  # The coefficient of determination: 1 is perfect prediction\n",
        "  print('Coefficient of determination: %.2f'% r2_score(data_y, pred_y))\n",
        "\n",
        "  # Plot outputs\n",
        "  plt.scatter(data_x, data_y,  color='black')\n",
        "  plt.plot(data_x, pred_y, color='blue', linewidth=3)\n",
        "\n",
        "  plt.xticks(())\n",
        "  plt.yticks(())\n",
        "\n",
        "  plt.show()"
      ],
      "execution_count": 262,
      "outputs": []
    },
    {
      "cell_type": "code",
      "metadata": {
        "colab": {
          "base_uri": "https://localhost:8080/",
          "height": 486
        },
        "id": "bW7N5BCHIanH",
        "outputId": "36f1463b-9775-446c-9115-6ecf45742f40"
      },
      "source": [
        "# Train Set에서의 모델링 결과 검증\n",
        "train_pred_y = regr_model_summary(regr, train_x, train_y)\n",
        "print_plot_result(train_x, train_y, train_pred_y)"
      ],
      "execution_count": 263,
      "outputs": [
        {
          "output_type": "stream",
          "text": [
            "Coefficients:  [0.57190722] \t Intercept:  -25.965721649484564\n",
            "Mean Absolute Percentage Error: 0.03\n",
            "Coefficient of determination: 0.55\n",
            "params = [-25.96572165   0.57190722]\n",
            "test_x shape is  (17, 1) new_x shape is  (17, 2)\n",
            "variance :  [5.17943000e+02 1.70576335e-02] standard deviation  [22.7583611   0.13060488] t_value:  [-1.14093109  4.3789117 ]\n",
            "\n",
            "=========== SUMMARY ===========\n",
            "   Coefficients  Standard Errors  t values  p_values\n",
            "0      -25.9657           22.758    -1.141  0.270689\n",
            "1        0.5719            0.131     4.379  0.000467\n",
            "Mean Absolute Percentage Error: 0.03\n",
            "Coefficient of determination: 0.55\n"
          ],
          "name": "stdout"
        },
        {
          "output_type": "display_data",
          "data": {
            "image/png": "[encoded data removed]",
            "text/plain": [
              "<Figure size 432x288 with 1 Axes>"
            ]
          },
          "metadata": {
            "tags": []
          }
        }
      ]
    },
    {
      "cell_type": "code",
      "metadata": {
        "colab": {
          "base_uri": "https://localhost:8080/",
          "height": 486
        },
        "id": "wLADVYxwDMgX",
        "outputId": "5f1418dd-55cc-4ec3-cfb4-b88c27fe8cfb"
      },
      "source": [
        "# Test Set을 통한 모델링 결과 검증\n",
        "test_pred_y = regr_model_summary(regr, test_x, test_y)\n",
        "print_plot_result(test_x, test_y, test_pred_y)"
      ],
      "execution_count": 264,
      "outputs": [
        {
          "output_type": "stream",
          "text": [
            "Coefficients:  [0.57190722] \t Intercept:  -25.965721649484564\n",
            "Mean Absolute Percentage Error: 0.05\n",
            "Coefficient of determination: 0.48\n",
            "params = [-25.96572165   0.57190722]\n",
            "test_x shape is  (7, 1) new_x shape is  (7, 2)\n",
            "variance :  [2.31926547e+03 7.65203253e-02] standard deviation  [48.1587528   0.27662307] t_value:  [-0.53916931  2.06746027]\n",
            "\n",
            "=========== SUMMARY ===========\n",
            "   Coefficients  Standard Errors  t values  p_values\n",
            "0      -25.9657           48.159    -0.539  0.609179\n",
            "1        0.5719            0.277     2.067  0.084183\n",
            "Mean Absolute Percentage Error: 0.05\n",
            "Coefficient of determination: 0.48\n"
          ],
          "name": "stdout"
        },
        {
          "output_type": "display_data",
          "data": {
            "image/png": "[encoded data removed]",
            "text/plain": [
              "<Figure size 432x288 with 1 Axes>"
            ]
          },
          "metadata": {
            "tags": []
          }
        }
      ]
    },
    {
      "cell_type": "code",
      "metadata": {
        "id": "oisGTv-5l1_p",
        "colab": {
          "base_uri": "https://localhost:8080/"
        },
        "outputId": "57315dba-41a8-4157-9a53-b37457dcd0f5"
      },
      "source": [
        "# body dataset을 scaling\n",
        "from sklearn.preprocessing import StandardScaler\n",
        "standardScaler = StandardScaler()\n",
        "standardScaler.fit(all_x)\n",
        "body_standardScaled_x = standardScaler.transform(all_x)\n",
        "print(standardScaler.scale_, standardScaler.mean_, standardScaler.var_, standardScaler.n_features_in_, standardScaler.n_samples_seen_)"
      ],
      "execution_count": 265,
      "outputs": [
        {
          "output_type": "stream",
          "text": [
            "[5.35655751] [174.125] [28.69270833] 1 24\n"
          ],
          "name": "stdout"
        }
      ]
    },
    {
      "cell_type": "code",
      "metadata": {
        "colab": {
          "base_uri": "https://localhost:8080/"
        },
        "id": "eyeaeS2ORELY",
        "outputId": "aa5c7b6a-9356-4d7e-bb4e-522cb376b03e"
      },
      "source": [
        "all_x[0], body_standardScaled_x[0], train_y[0]"
      ],
      "execution_count": 266,
      "outputs": [
        {
          "output_type": "execute_result",
          "data": {
            "text/plain": [
              "(array([174]), array([-0.02333588]), 77)"
            ]
          },
          "metadata": {
            "tags": []
          },
          "execution_count": 266
        }
      ]
    },
    {
      "cell_type": "code",
      "metadata": {
        "colab": {
          "base_uri": "https://localhost:8080/"
        },
        "id": "Ney6MYg-RPAl",
        "outputId": "5251f4cf-783f-4304-f9f5-0cf32d9a2fe9"
      },
      "source": [
        "# z = (x - u) / s\n",
        "# x = (z * s) + u\n",
        "# -0.02333588  = (x - standardScaler.mean_)/ standardScaler.scale_\n",
        "\n",
        "(body_standardScaled_x[0]*standardScaler.scale_)+standardScaler.mean_ "
      ],
      "execution_count": 267,
      "outputs": [
        {
          "output_type": "execute_result",
          "data": {
            "text/plain": [
              "array([174.])"
            ]
          },
          "metadata": {
            "tags": []
          },
          "execution_count": 267
        }
      ]
    },
    {
      "cell_type": "code",
      "metadata": {
        "colab": {
          "base_uri": "https://localhost:8080/"
        },
        "id": "jy1xIflmQ9V6",
        "outputId": "5492c8cd-ddc7-48a0-fdd2-143cfb6b443e"
      },
      "source": [
        "5.35655751*5.35655751"
      ],
      "execution_count": 268,
      "outputs": [
        {
          "output_type": "execute_result",
          "data": {
            "text/plain": [
              "28.692708357937402"
            ]
          },
          "metadata": {
            "tags": []
          },
          "execution_count": 268
        }
      ]
    },
    {
      "cell_type": "code",
      "metadata": {
        "id": "m02Bvnb0l2E3",
        "colab": {
          "base_uri": "https://localhost:8080/"
        },
        "outputId": "edf39c37-1f8d-4e15-963d-50d093658799"
      },
      "source": [
        "body_standardScaled_x[:,0][split_point:]"
      ],
      "execution_count": 269,
      "outputs": [
        {
          "output_type": "execute_result",
          "data": {
            "text/plain": [
              "array([ 2.2169089 , -1.14345827,  0.16335118, -0.77008414, -0.21002295,\n",
              "        0.53672531, -0.95677121])"
            ]
          },
          "metadata": {
            "tags": []
          },
          "execution_count": 269
        }
      ]
    },
    {
      "cell_type": "code",
      "metadata": {
        "id": "CdpI6lLxl2HZ",
        "colab": {
          "base_uri": "https://localhost:8080/"
        },
        "outputId": "b8216bb3-33ec-48d1-935e-72d9e337647c"
      },
      "source": [
        "# Train & Test set 분리\n",
        "train_x = body_standardScaled_x[:,0][:split_point]\n",
        "test_x = body_standardScaled_x[:,0][split_point:]\n",
        "train_y = body_shuffled['weight'][:split_point]\n",
        "test_y = body_shuffled['weight'][split_point:]\n",
        "\n",
        "train_x = train_x.reshape(-1,1)\n",
        "test_x = test_x.reshape(-1,1)\n",
        "\n",
        "# Create linear regression object\n",
        "regr = linear_model.LinearRegression()\n",
        "\n",
        "# Train the model using the training sets\n",
        "regr.fit(train_x, train_y)"
      ],
      "execution_count": 270,
      "outputs": [
        {
          "output_type": "execute_result",
          "data": {
            "text/plain": [
              "LinearRegression()"
            ]
          },
          "metadata": {
            "tags": []
          },
          "execution_count": 270
        }
      ]
    },
    {
      "cell_type": "code",
      "metadata": {
        "id": "gIfTDmcrl2KR",
        "colab": {
          "base_uri": "https://localhost:8080/",
          "height": 486
        },
        "outputId": "f861561a-9c71-46c6-afe1-dbcdc6cebb30"
      },
      "source": [
        "# Train Set에서의 모델링 결과 검증\n",
        "train_pred_y = regr_model_summary(regr, train_x, train_y)\n",
        "print_plot_result(train_x, train_y, train_pred_y)"
      ],
      "execution_count": 271,
      "outputs": [
        {
          "output_type": "stream",
          "text": [
            "Coefficients:  [3.06345389] \t Intercept:  73.61762242268041\n",
            "Mean Absolute Percentage Error: 0.03\n",
            "Coefficient of determination: 0.55\n",
            "params = [73.61762242  3.06345389]\n",
            "test_x shape is  (17, 1) new_x shape is  (17, 2)\n",
            "variance :  [0.45806331 0.4894297 ] standard deviation  [0.67680374 0.69959253] t_value:  [108.77248122   4.3789117 ]\n",
            "\n",
            "=========== SUMMARY ===========\n",
            "   Coefficients  Standard Errors  t values  p_values\n",
            "0       73.6176            0.677   108.772  0.000000\n",
            "1        3.0635            0.700     4.379  0.000467\n",
            "Mean Absolute Percentage Error: 0.03\n",
            "Coefficient of determination: 0.55\n"
          ],
          "name": "stdout"
        },
        {
          "output_type": "display_data",
          "data": {
            "image/png": "[encoded data removed]",
            "text/plain": [
              "<Figure size 432x288 with 1 Axes>"
            ]
          },
          "metadata": {
            "tags": []
          }
        }
      ]
    },
    {
      "cell_type": "code",
      "metadata": {
        "id": "qd7qYrTjl2M2",
        "colab": {
          "base_uri": "https://localhost:8080/",
          "height": 486
        },
        "outputId": "cac52a3d-5fe4-4f9e-805b-cf277f1c609a"
      },
      "source": [
        "# Test Set을 통한 모델링 결과 검증\n",
        "test_pred_y = regr_model_summary(regr, test_x, test_y)\n",
        "print_plot_result(test_x, test_y, test_pred_y)"
      ],
      "execution_count": 272,
      "outputs": [
        {
          "output_type": "stream",
          "text": [
            "Coefficients:  [3.06345389] \t Intercept:  73.61762242268041\n",
            "Mean Absolute Percentage Error: 0.05\n",
            "Coefficient of determination: 0.48\n",
            "params = [73.61762242  3.06345389]\n",
            "test_x shape is  (7, 1) new_x shape is  (7, 2)\n",
            "variance :  [2.53729784 2.19557538] standard deviation  [1.59288978 1.48174741] t_value:  [46.21639457  2.06746027]\n",
            "\n",
            "=========== SUMMARY ===========\n",
            "   Coefficients  Standard Errors  t values      p_values\n",
            "0       73.6176            1.593    46.216  6.900000e-09\n",
            "1        3.0635            1.482     2.067  8.418278e-02\n",
            "Mean Absolute Percentage Error: 0.05\n",
            "Coefficient of determination: 0.48\n"
          ],
          "name": "stdout"
        },
        {
          "output_type": "display_data",
          "data": {
            "image/png": "[encoded data removed]",
            "text/plain": [
              "<Figure size 432x288 with 1 Axes>"
            ]
          },
          "metadata": {
            "tags": []
          }
        }
      ]
    },
    {
      "cell_type": "code",
      "metadata": {
        "id": "WXiUw3tiLfAT"
      },
      "source": [
        ""
      ],
      "execution_count": 272,
      "outputs": []
    }
  ]
}